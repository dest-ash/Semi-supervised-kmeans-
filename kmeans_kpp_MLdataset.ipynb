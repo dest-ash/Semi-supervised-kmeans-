{
 "cells": [
  {
   "cell_type": "code",
   "execution_count": 1,
   "metadata": {},
   "outputs": [],
   "source": [
    "import pandas as pd\n",
    "import numpy as np\n",
    "import random\n",
    "import math\n",
    "import matplotlib.pyplot as plt\n",
    "from sklearn import datasets\n",
    "import numpy.random as npr\n",
    "from copy import deepcopy\n",
    "from sklearn.cluster import KMeans\n",
    "import seaborn as sns\n",
    "\n"
   ]
  },
  {
   "cell_type": "code",
   "execution_count": 2,
   "metadata": {},
   "outputs": [
    {
     "data": {
      "text/html": [
       "<div>\n",
       "<style scoped>\n",
       "    .dataframe tbody tr th:only-of-type {\n",
       "        vertical-align: middle;\n",
       "    }\n",
       "\n",
       "    .dataframe tbody tr th {\n",
       "        vertical-align: top;\n",
       "    }\n",
       "\n",
       "    .dataframe thead th {\n",
       "        text-align: right;\n",
       "    }\n",
       "</style>\n",
       "<table border=\"1\" class=\"dataframe\">\n",
       "  <thead>\n",
       "    <tr style=\"text-align: right;\">\n",
       "      <th></th>\n",
       "      <th>customer_id</th>\n",
       "      <th>avg_distance_to_shops</th>\n",
       "      <th>min_distance_to_shops</th>\n",
       "      <th>max_distance_to_shops</th>\n",
       "      <th>products_purchased</th>\n",
       "      <th>unique_products_purchased</th>\n",
       "      <th>amount_purchased</th>\n",
       "      <th>avg_purchase</th>\n",
       "      <th>avg_price</th>\n",
       "      <th>shops_used</th>\n",
       "      <th>...</th>\n",
       "      <th>avg_purchase_shop_1</th>\n",
       "      <th>avg_purchase_shop_2</th>\n",
       "      <th>avg_purchase_shop_3</th>\n",
       "      <th>avg_purchase_shop_4</th>\n",
       "      <th>avg_purchase_shop_5</th>\n",
       "      <th>avg_price_shop_1</th>\n",
       "      <th>avg_price_shop_2</th>\n",
       "      <th>avg_price_shop_3</th>\n",
       "      <th>avg_price_shop_4</th>\n",
       "      <th>avg_price_shop_5</th>\n",
       "    </tr>\n",
       "  </thead>\n",
       "  <tbody>\n",
       "    <tr>\n",
       "      <td>0</td>\n",
       "      <td>1</td>\n",
       "      <td>1434.91910</td>\n",
       "      <td>985.87620</td>\n",
       "      <td>4082.5222</td>\n",
       "      <td>3090.0</td>\n",
       "      <td>473.0</td>\n",
       "      <td>7551.701</td>\n",
       "      <td>14.221659</td>\n",
       "      <td>3.150493</td>\n",
       "      <td>2.0</td>\n",
       "      <td>...</td>\n",
       "      <td>10.441143</td>\n",
       "      <td>14.862848</td>\n",
       "      <td>0.000000</td>\n",
       "      <td>0.0</td>\n",
       "      <td>0.000000</td>\n",
       "      <td>6.393403</td>\n",
       "      <td>2.600485</td>\n",
       "      <td>0.000000</td>\n",
       "      <td>0.0</td>\n",
       "      <td>0.000000</td>\n",
       "    </tr>\n",
       "    <tr>\n",
       "      <td>1</td>\n",
       "      <td>2</td>\n",
       "      <td>909.76764</td>\n",
       "      <td>254.94832</td>\n",
       "      <td>2295.4840</td>\n",
       "      <td>4508.0</td>\n",
       "      <td>486.0</td>\n",
       "      <td>7820.219</td>\n",
       "      <td>11.235947</td>\n",
       "      <td>2.191422</td>\n",
       "      <td>4.0</td>\n",
       "      <td>...</td>\n",
       "      <td>3.761943</td>\n",
       "      <td>4.848720</td>\n",
       "      <td>2.546600</td>\n",
       "      <td>0.0</td>\n",
       "      <td>16.479185</td>\n",
       "      <td>2.851152</td>\n",
       "      <td>2.009863</td>\n",
       "      <td>2.059450</td>\n",
       "      <td>0.0</td>\n",
       "      <td>2.103394</td>\n",
       "    </tr>\n",
       "    <tr>\n",
       "      <td>2</td>\n",
       "      <td>3</td>\n",
       "      <td>1498.94700</td>\n",
       "      <td>754.29560</td>\n",
       "      <td>2831.7727</td>\n",
       "      <td>814.0</td>\n",
       "      <td>234.0</td>\n",
       "      <td>1788.613</td>\n",
       "      <td>5.453088</td>\n",
       "      <td>2.258994</td>\n",
       "      <td>4.0</td>\n",
       "      <td>...</td>\n",
       "      <td>3.757062</td>\n",
       "      <td>5.605183</td>\n",
       "      <td>1.923385</td>\n",
       "      <td>0.0</td>\n",
       "      <td>5.924268</td>\n",
       "      <td>3.426687</td>\n",
       "      <td>2.478529</td>\n",
       "      <td>1.923385</td>\n",
       "      <td>0.0</td>\n",
       "      <td>1.947067</td>\n",
       "    </tr>\n",
       "    <tr>\n",
       "      <td>3</td>\n",
       "      <td>4</td>\n",
       "      <td>561.65900</td>\n",
       "      <td>362.79178</td>\n",
       "      <td>2210.3820</td>\n",
       "      <td>648.0</td>\n",
       "      <td>208.0</td>\n",
       "      <td>1679.520</td>\n",
       "      <td>5.976940</td>\n",
       "      <td>2.614292</td>\n",
       "      <td>4.0</td>\n",
       "      <td>...</td>\n",
       "      <td>4.997400</td>\n",
       "      <td>2.688400</td>\n",
       "      <td>5.029184</td>\n",
       "      <td>0.0</td>\n",
       "      <td>7.156351</td>\n",
       "      <td>4.997400</td>\n",
       "      <td>2.688400</td>\n",
       "      <td>2.083168</td>\n",
       "      <td>0.0</td>\n",
       "      <td>2.754427</td>\n",
       "    </tr>\n",
       "    <tr>\n",
       "      <td>4</td>\n",
       "      <td>5</td>\n",
       "      <td>605.36280</td>\n",
       "      <td>275.46753</td>\n",
       "      <td>1375.1184</td>\n",
       "      <td>13.0</td>\n",
       "      <td>10.0</td>\n",
       "      <td>17.922</td>\n",
       "      <td>1.792200</td>\n",
       "      <td>1.692000</td>\n",
       "      <td>2.0</td>\n",
       "      <td>...</td>\n",
       "      <td>0.000000</td>\n",
       "      <td>0.967667</td>\n",
       "      <td>2.145571</td>\n",
       "      <td>0.0</td>\n",
       "      <td>0.000000</td>\n",
       "      <td>0.000000</td>\n",
       "      <td>0.633667</td>\n",
       "      <td>2.145571</td>\n",
       "      <td>0.0</td>\n",
       "      <td>0.000000</td>\n",
       "    </tr>\n",
       "  </tbody>\n",
       "</table>\n",
       "<p>5 rows × 40 columns</p>\n",
       "</div>"
      ],
      "text/plain": [
       "   customer_id  avg_distance_to_shops  min_distance_to_shops  \\\n",
       "0            1             1434.91910              985.87620   \n",
       "1            2              909.76764              254.94832   \n",
       "2            3             1498.94700              754.29560   \n",
       "3            4              561.65900              362.79178   \n",
       "4            5              605.36280              275.46753   \n",
       "\n",
       "   max_distance_to_shops  products_purchased  unique_products_purchased  \\\n",
       "0              4082.5222              3090.0                      473.0   \n",
       "1              2295.4840              4508.0                      486.0   \n",
       "2              2831.7727               814.0                      234.0   \n",
       "3              2210.3820               648.0                      208.0   \n",
       "4              1375.1184                13.0                       10.0   \n",
       "\n",
       "   amount_purchased  avg_purchase  avg_price  shops_used  ...  \\\n",
       "0          7551.701     14.221659   3.150493         2.0  ...   \n",
       "1          7820.219     11.235947   2.191422         4.0  ...   \n",
       "2          1788.613      5.453088   2.258994         4.0  ...   \n",
       "3          1679.520      5.976940   2.614292         4.0  ...   \n",
       "4            17.922      1.792200   1.692000         2.0  ...   \n",
       "\n",
       "   avg_purchase_shop_1  avg_purchase_shop_2  avg_purchase_shop_3  \\\n",
       "0            10.441143            14.862848             0.000000   \n",
       "1             3.761943             4.848720             2.546600   \n",
       "2             3.757062             5.605183             1.923385   \n",
       "3             4.997400             2.688400             5.029184   \n",
       "4             0.000000             0.967667             2.145571   \n",
       "\n",
       "   avg_purchase_shop_4  avg_purchase_shop_5  avg_price_shop_1  \\\n",
       "0                  0.0             0.000000          6.393403   \n",
       "1                  0.0            16.479185          2.851152   \n",
       "2                  0.0             5.924268          3.426687   \n",
       "3                  0.0             7.156351          4.997400   \n",
       "4                  0.0             0.000000          0.000000   \n",
       "\n",
       "   avg_price_shop_2  avg_price_shop_3  avg_price_shop_4  avg_price_shop_5  \n",
       "0          2.600485          0.000000               0.0          0.000000  \n",
       "1          2.009863          2.059450               0.0          2.103394  \n",
       "2          2.478529          1.923385               0.0          1.947067  \n",
       "3          2.688400          2.083168               0.0          2.754427  \n",
       "4          0.633667          2.145571               0.0          0.000000  \n",
       "\n",
       "[5 rows x 40 columns]"
      ]
     },
     "execution_count": 2,
     "metadata": {},
     "output_type": "execute_result"
    }
   ],
   "source": [
    "# Uploading ML dataset\n",
    "base=pd.read_csv('/Users/elvinagovendasamy/TER/BigML_Dataset.csv',sep=',')\n",
    "base.head(5)"
   ]
  },
  {
   "cell_type": "code",
   "execution_count": 3,
   "metadata": {},
   "outputs": [],
   "source": [
    "X=base.iloc[:,1:]\n",
    "Y=base.iloc[:,0]"
   ]
  },
  {
   "cell_type": "code",
   "execution_count": 4,
   "metadata": {},
   "outputs": [],
   "source": [
    "# Imputing strategy\n",
    "# Part A : mean or median for numeric and most-frequency for categorical\n",
    "\n",
    "from sklearn.base import TransformerMixin\n",
    "\n",
    "class DataFrameImputer(TransformerMixin):\n",
    "\n",
    "    def __init__(self):\n",
    "        \"\"\"Impute missing values.\n",
    "\n",
    "        Columns of dtype object are imputed with the most frequent value \n",
    "        in column.\n",
    "\n",
    "        Columns of other types are imputed with mean of column.\n",
    "        \"\"\"\n",
    "        \n",
    "    def fit(self, X, y=None):\n",
    "\n",
    "        self.fill = pd.Series([X[c].value_counts().index[0]\n",
    "            if X[c].dtype == np.dtype('O') else X[c].median() for c in X],\n",
    "            index=X.columns)\n",
    "        return self\n",
    "\n",
    "    def transform(self, X, y=None):\n",
    "        return X.fillna(self.fill)"
   ]
  },
  {
   "cell_type": "code",
   "execution_count": 5,
   "metadata": {},
   "outputs": [
    {
     "data": {
      "text/plain": [
       "0            1\n",
       "1            2\n",
       "2            3\n",
       "3            4\n",
       "4            5\n",
       "         ...  \n",
       "60361    60362\n",
       "60362    60363\n",
       "60363    60364\n",
       "60364    60365\n",
       "60365    60366\n",
       "Name: customer_id, Length: 60366, dtype: int64"
      ]
     },
     "execution_count": 5,
     "metadata": {},
     "output_type": "execute_result"
    }
   ],
   "source": [
    "# Imputing based on mean for numeric, and most frequent for strings\n",
    "X = DataFrameImputer().fit_transform(X)\n",
    "\n",
    "X.fillna(X.mean())\n",
    "Y.fillna(Y.mean())"
   ]
  },
  {
   "cell_type": "markdown",
   "metadata": {},
   "source": [
    "# Initialization"
   ]
  },
  {
   "cell_type": "code",
   "execution_count": 39,
   "metadata": {},
   "outputs": [
    {
     "name": "stdout",
     "output_type": "stream",
     "text": [
      "60366 39\n"
     ]
    }
   ],
   "source": [
    "m,n=X.shape[0],X.shape[1]\n",
    "print(m,n) # m est le nombre d'observations, n est le nombre de variables explicatives.\n",
    "N=1000 # on choisit de faire 100 itérations\n",
    "k=3 #3 clusters"
   ]
  },
  {
   "cell_type": "markdown",
   "metadata": {},
   "source": [
    "# K means"
   ]
  },
  {
   "cell_type": "code",
   "execution_count": 40,
   "metadata": {},
   "outputs": [],
   "source": [
    "# Initialisation for lloyd algorithm\n",
    "def init_random(k,X):\n",
    "    centroids=np.array([]).reshape(n,0)\n",
    "    for i in range(k):\n",
    "        u=npr.randint(0,m-1) #on choisit 'randomly' entre les 150 observations\n",
    "        centroids=np.c_[centroids,X.iloc[u,:]] # concatenate matrice vide\n",
    "    centroids=centroids.reshape(k,n)\n",
    "    return centroids\n",
    "\n"
   ]
  },
  {
   "cell_type": "code",
   "execution_count": 41,
   "metadata": {},
   "outputs": [],
   "source": [
    "def kmeans_lloyd(k,X):\n",
    "    \n",
    "    centroids=init_random(k,X)\n",
    "    \n",
    "    error = 10 #random number chosen\n",
    "\n",
    "    while error > 10**(-10):\n",
    "        distances=np.zeros((m,k))\n",
    "        clusters = np.zeros(n)\n",
    "        for i in range(k):\n",
    "                distances[:,i]=np.linalg.norm(X-centroids[i,:],axis=1)\n",
    "        clusters=np.argmin(distances,axis=1)\n",
    "        centroids_new=deepcopy(centroids)\n",
    "        for i in range(k):\n",
    "            centroids_new[i,:]=np.mean(X.iloc[clusters==i,:],axis=0) # on trouve la moyenne pour chq variable\n",
    "        error = np.linalg.norm(centroids - centroids_new)\n",
    "        centroids=deepcopy(centroids_new)\n",
    "        return centroids"
   ]
  },
  {
   "cell_type": "code",
   "execution_count": 42,
   "metadata": {},
   "outputs": [
    {
     "name": "stdout",
     "output_type": "stream",
     "text": [
      "[[9.51799675e+02 5.33745264e+02 2.60159747e+03 8.02142012e+03\n",
      "  5.73775148e+02 1.58747599e+04 2.37044703e+01 2.73047399e+00\n",
      "  2.66863905e+00 1.77906171e+03 4.04735143e+03 2.56620859e+03\n",
      "  8.44546617e+02 1.88610523e+03 4.41076923e+02 1.55775148e+02\n",
      "  7.97396450e+02 6.50654438e+03 1.20627219e+02 1.38041420e+02\n",
      "  4.34970414e+01 4.49171598e+01 4.79970414e+02 1.67810651e+01\n",
      "  1.28419341e+03 3.74470438e+02 1.39886714e+03 1.25671459e+04\n",
      "  2.50083053e+02 1.52869352e+01 2.61485750e+00 3.20354393e+00\n",
      "  2.50239312e+01 9.73778157e-01 1.33247899e+01 1.74190250e+00\n",
      "  5.05412704e-01 2.31077025e+00 5.28731376e-01]\n",
      " [1.55118382e+03 1.08354829e+03 2.02498547e+03 5.77345393e+03\n",
      "  6.31775079e+02 1.34962933e+04 1.67347305e+01 3.34202954e+00\n",
      "  2.15229233e+00 2.21270818e+03 2.58367293e+03 1.87074578e+03\n",
      "  2.62845106e+03 1.87785186e+03 3.02382955e+03 1.66945506e+03\n",
      "  7.23460962e+02 9.10653654e+01 2.65642987e+02 4.48603041e+02\n",
      "  1.99280754e+02 8.04323650e+01 1.76756695e+01 3.18195642e+01\n",
      "  7.59029600e+03 3.80859253e+03 1.41330638e+03 1.76931086e+02\n",
      "  5.07167342e+02 1.25915631e+01 7.54239950e+00 3.41386460e+00\n",
      "  9.57765725e-01 1.46713007e+00 3.74912679e+00 1.71944316e+00\n",
      "  7.70664757e-01 4.39399634e-01 5.08399566e-01]\n",
      " [2.07132400e+03 1.42375747e+03 3.01617181e+03 1.44430894e+03\n",
      "  3.06151888e+02 3.46884627e+03 7.83832851e+00 3.69496921e+00\n",
      "  2.39716083e+00 2.52122252e+03 2.47597806e+03 1.92731222e+03\n",
      "  2.90906037e+03 2.03260442e+03 7.20478303e+02 5.22692316e+02\n",
      "  1.09973472e+02 3.43908695e+01 5.67573981e+01 2.04682655e+02\n",
      "  1.21124178e+02 2.80365650e+01 9.66747325e+00 1.44975175e+01\n",
      "  1.89656836e+03 1.18399422e+03 2.12276442e+02 6.73181705e+01\n",
      "  1.08646859e+02 7.72252476e+00 4.77870255e+00 1.36578314e+00\n",
      "  6.67638965e-01 7.55591262e-01 4.72896834e+00 2.34533004e+00\n",
      "  7.60274111e-01 4.39302360e-01 4.49040276e-01]]\n"
     ]
    }
   ],
   "source": [
    "centroids_lloyd=kmeans_lloyd(3,X)\n",
    "print(centroids_lloyd)"
   ]
  },
  {
   "cell_type": "code",
   "execution_count": 43,
   "metadata": {},
   "outputs": [
    {
     "data": {
      "text/plain": [
       "<matplotlib.axes._subplots.AxesSubplot at 0x1a21c4da50>"
      ]
     },
     "execution_count": 43,
     "metadata": {},
     "output_type": "execute_result"
    },
    {
     "data": {
      "image/png": "[encoded data removed]",
      "text/plain": [
       "<Figure size 432x288 with 1 Axes>"
      ]
     },
     "metadata": {
      "needs_background": "light"
     },
     "output_type": "display_data"
    }
   ],
   "source": [
    "# Plot the data\n",
    "sns.scatterplot(x=X.iloc[:,0], y=X.iloc[:,1])\n",
    "sns.scatterplot(x=centroids_lloyd[:,0],y=centroids_lloyd[:,1])"
   ]
  },
  {
   "cell_type": "markdown",
   "metadata": {},
   "source": [
    "# K means ++"
   ]
  },
  {
   "cell_type": "code",
   "execution_count": null,
   "metadata": {},
   "outputs": [],
   "source": [
    "m,n=X.shape[0],X.shape[1]\n",
    "print(m,n) # m est le nombre d'observations, n est le nombre de variables explicatives.\n",
    "N=1000 # on choisit de faire 100 itérations\n",
    "k=3 #3 clusters"
   ]
  },
  {
   "cell_type": "code",
   "execution_count": 46,
   "metadata": {},
   "outputs": [],
   "source": [
    "# Initialisation using probability (kmeans++)\n",
    "\n",
    "def init_kpp(k,X):\n",
    "    centroids_rand=np.array([]).reshape(n,0)\n",
    "    for i in range(k):\n",
    "        rand=npr.randint(0,m-1)\n",
    "        centroids_rand=np.c_[centroids_rand,X.iloc[rand,:]]\n",
    "        \n",
    "        while len(centroids_rand)<k:\n",
    "            d2 = np.array([min([np.square(eucl_dist(i,c, None)) for c in temp]) for i in X])\n",
    "            prob = d2/d2.sum()\n",
    "            cum_prob = prob.cumsum()\n",
    "            r = np.random.random()\n",
    "            ind = np.where(cum_prob >= r)[0][0]\n",
    "            centroids_rand.append(X[ind])\n",
    "    centroids_rand=np.array(centroids_rand)\n",
    "    centroids_rand=centroids_rand.reshape(k,n)\n",
    "    return centroids_rand"
   ]
  },
  {
   "cell_type": "code",
   "execution_count": 47,
   "metadata": {},
   "outputs": [],
   "source": [
    "# Performing k_means_lloyd\n",
    "def kmeans_kpp(k,X):\n",
    "    \n",
    "    centroids=init_kpp(k,X)\n",
    "    \n",
    "    error = 10 #random number chosen\n",
    "\n",
    "    while error > 10**(-10):\n",
    "        distances=np.zeros((m,k))\n",
    "        clusters = np.zeros(n)\n",
    "        for i in range(k):\n",
    "                distances[:,i]=np.linalg.norm(X-centroids[i,:],axis=1)\n",
    "        clusters=np.argmin(distances,axis=1)\n",
    "        centroids_new=deepcopy(centroids)\n",
    "        for i in range(k):\n",
    "            centroids_new[i,:]=np.mean(X.iloc[clusters==i,:],axis=0) # on trouve la moyenne pour chq variable\n",
    "        error = np.linalg.norm(centroids - centroids_new)\n",
    "        centroids=deepcopy(centroids_new)\n",
    "        return centroids"
   ]
  },
  {
   "cell_type": "code",
   "execution_count": 48,
   "metadata": {},
   "outputs": [
    {
     "name": "stdout",
     "output_type": "stream",
     "text": [
      "[[1.06472060e+03 5.84591713e+02 2.66837643e+03 1.14496190e+04\n",
      "  6.85890476e+02 2.30223500e+04 2.75227778e+01 2.83650316e+00\n",
      "  2.95238095e+00 1.96178486e+03 2.84481357e+03 1.80724564e+03\n",
      "  2.01987722e+03 1.61751219e+03 6.68600000e+02 2.69558571e+03\n",
      "  2.45002381e+03 3.64099048e+03 1.99441905e+03 1.84923810e+02\n",
      "  1.88761905e+02 1.52461905e+02 2.47795238e+02 1.29728571e+02\n",
      "  1.84580444e+03 5.75738277e+03 4.53143263e+03 7.11462693e+03\n",
      "  3.77310309e+03 1.49237144e+01 1.02903280e+01 8.71037835e+00\n",
      "  1.34965991e+01 6.50299421e+00 1.17164016e+01 2.45514622e+00\n",
      "  1.13709807e+00 1.32676886e+00 8.99754007e-01]\n",
      " [3.56788060e+03 2.63658622e+03 4.67580339e+03 2.91657753e+03\n",
      "  4.42497034e+02 7.00863276e+03 1.05689213e+01 3.76100487e+00\n",
      "  2.33859633e+00 4.03845372e+03 3.27143407e+03 3.42717405e+03\n",
      "  4.46409879e+03 3.69333169e+03 1.65216400e+03 1.13694843e+03\n",
      "  6.32132883e+01 3.48264123e+01 2.94253902e+01 3.24775669e+02\n",
      "  1.99385324e+02 1.62288035e+01 8.91229351e+00 7.15798120e+00\n",
      "  4.17793913e+03 2.58374322e+03 1.23038390e+02 6.78974441e+01\n",
      "  5.60145787e+01 9.84173506e+00 7.01182299e+00 9.00731680e-01\n",
      "  7.18735913e-01 4.24067952e-01 4.47592894e+00 2.56458805e+00\n",
      "  5.77798876e-01 5.14305757e-01 2.85320174e-01]\n",
      " [1.69189919e+03 1.12370841e+03 2.55785404e+03 1.48400451e+03\n",
      "  3.04246265e+02 3.53766586e+03 7.99739852e+00 3.64900634e+00\n",
      "  2.38683713e+00 2.15553298e+03 2.31229178e+03 1.59092266e+03\n",
      "  2.53431505e+03 1.65015727e+03 7.18522185e+02 4.78055550e+02\n",
      "  1.67701091e+02 4.62070367e+01 7.34998476e+01 1.99636639e+02\n",
      "  1.10138743e+02 3.48854245e+01 1.11519137e+01 1.71993536e+01\n",
      "  1.89650238e+03 1.08500256e+03 3.25348461e+02 8.98621946e+01\n",
      "  1.40902394e+02 7.68185181e+00 4.49791264e+00 1.62773221e+00\n",
      "  7.11147187e-01 8.69363084e-01 4.69727469e+00 2.23790695e+00\n",
      "  7.99359412e-01 4.25247735e-01 4.89167841e-01]]\n"
     ]
    }
   ],
   "source": [
    "centroids_kpp=kmeans_kpp(3,X)\n",
    "print(centroids_kpp)"
   ]
  },
  {
   "cell_type": "code",
   "execution_count": 49,
   "metadata": {},
   "outputs": [
    {
     "data": {
      "text/plain": [
       "<matplotlib.axes._subplots.AxesSubplot at 0x1a21f3e250>"
      ]
     },
     "execution_count": 49,
     "metadata": {},
     "output_type": "execute_result"
    },
    {
     "data": {
      "image/png": "[encoded data removed]",
      "text/plain": [
       "<Figure size 432x288 with 1 Axes>"
      ]
     },
     "metadata": {
      "needs_background": "light"
     },
     "output_type": "display_data"
    }
   ],
   "source": [
    "# Plot the data\n",
    "sns.scatterplot(x=X.iloc[:,0], y=X.iloc[:,1])\n",
    "sns.scatterplot(x=centroids_kpp[:,0],y=centroids_kpp[:,1])"
   ]
  },
  {
   "cell_type": "code",
   "execution_count": null,
   "metadata": {},
   "outputs": [],
   "source": []
  }
 ],
 "metadata": {
  "kernelspec": {
   "display_name": "Python 3",
   "language": "python",
   "name": "python3"
  },
  "language_info": {
   "codemirror_mode": {
    "name": "ipython",
    "version": 3
   },
   "file_extension": ".py",
   "mimetype": "text/x-python",
   "name": "python",
   "nbconvert_exporter": "python",
   "pygments_lexer": "ipython3",
   "version": "3.7.4"
  }
 },
 "nbformat": 4,
 "nbformat_minor": 2
}
