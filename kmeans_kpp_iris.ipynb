{
 "cells": [
  {
   "cell_type": "markdown",
   "metadata": {},
   "source": [
    "# ---- IRIS DATASET ----"
   ]
  },
  {
   "cell_type": "code",
   "execution_count": 1,
   "metadata": {},
   "outputs": [],
   "source": [
    "import pandas as pd\n",
    "import numpy as np\n",
    "import random\n",
    "import math\n",
    "import matplotlib.pyplot as plt\n",
    "from sklearn import datasets\n",
    "import numpy.random as npr\n",
    "from copy import deepcopy\n",
    "from sklearn.cluster import KMeans\n",
    "import seaborn as sns"
   ]
  },
  {
   "cell_type": "code",
   "execution_count": 2,
   "metadata": {},
   "outputs": [],
   "source": [
    "iris=datasets.load_iris()\n",
    "data = pd.DataFrame(data= np.c_[iris['data'], iris['target']],\n",
    "                     columns= iris['feature_names'] + ['target'])\n",
    "\n",
    "X=data.iloc[:,0:4]\n",
    "Y = data['target']"
   ]
  },
  {
   "cell_type": "markdown",
   "metadata": {},
   "source": [
    "# K-means using sklearn"
   ]
  },
  {
   "cell_type": "code",
   "execution_count": 25,
   "metadata": {},
   "outputs": [
    {
     "data": {
      "text/plain": [
       "array([[5.9016129 , 2.7483871 , 4.39354839, 1.43387097],\n",
       "       [5.006     , 3.428     , 1.462     , 0.246     ],\n",
       "       [6.85      , 3.07368421, 5.74210526, 2.07105263]])"
      ]
     },
     "execution_count": 25,
     "metadata": {},
     "output_type": "execute_result"
    }
   ],
   "source": [
    "k_means = KMeans(n_clusters=3)\n",
    "k_means.fit(X)\n",
    "centroids = k_means.cluster_centers_\n",
    "centroids # matrice 3x4: k x nombre de variables\n",
    "\n"
   ]
  },
  {
   "cell_type": "code",
   "execution_count": 28,
   "metadata": {},
   "outputs": [
    {
     "name": "stdout",
     "output_type": "stream",
     "text": [
      "[5.9016129 5.006     6.85     ]\n"
     ]
    },
    {
     "data": {
      "text/plain": [
       "<matplotlib.collections.PathCollection at 0x1a1b77ea90>"
      ]
     },
     "execution_count": 28,
     "metadata": {},
     "output_type": "execute_result"
    },
    {
     "data": {
      "image/png": "[encoded data removed]",
      "text/plain": [
       "<Figure size 432x288 with 1 Axes>"
      ]
     },
     "metadata": {
      "needs_background": "light"
     },
     "output_type": "display_data"
    }
   ],
   "source": [
    "# Plot the data\n",
    "\n",
    "print(centroids[:,0])\n",
    "plt.scatter(X.iloc[:,0], X.iloc[:,1], s=7)\n",
    "\n",
    "plt.scatter(centroids[:,0], centroids[:,1], marker='P', c='g', s=150)\n",
    "\n",
    "#y_pred_clusters = k_means.labels_"
   ]
  },
  {
   "cell_type": "markdown",
   "metadata": {},
   "source": [
    "# Initialization"
   ]
  },
  {
   "cell_type": "code",
   "execution_count": 39,
   "metadata": {},
   "outputs": [
    {
     "name": "stdout",
     "output_type": "stream",
     "text": [
      "150 4\n"
     ]
    }
   ],
   "source": [
    "m,n=X.shape[0],X.shape[1]\n",
    "print(m,n) # m est le nombre d'observations, n est le nombre de variables explicatives.\n",
    "N=1000 # on choisit de faire 100 itérations\n",
    "k=3 #3 clusters"
   ]
  },
  {
   "cell_type": "markdown",
   "metadata": {},
   "source": [
    "# K means"
   ]
  },
  {
   "cell_type": "code",
   "execution_count": 40,
   "metadata": {},
   "outputs": [],
   "source": [
    "# Initialisation for lloyd algorithm\n",
    "def init_random(k,X):\n",
    "    centroids=np.array([]).reshape(n,0)\n",
    "    for i in range(k):\n",
    "        u=npr.randint(0,m-1) #on choisit 'randomly' entre les 150 observations\n",
    "        centroids=np.c_[centroids,X.iloc[u,:]] # concatenate matrice vide\n",
    "    centroids=centroids.reshape(k,n)\n",
    "    print(centroids)\n",
    "    return centroids\n"
   ]
  },
  {
   "cell_type": "code",
   "execution_count": 45,
   "metadata": {},
   "outputs": [],
   "source": [
    "def kmeans_lloyd(k,X):\n",
    "    \n",
    "    centroids=init_random(k,X)\n",
    "    \n",
    "    error = 10 #random number chosen\n",
    "\n",
    "    while error > 10**(-10):\n",
    "        distances=np.zeros((m,k))\n",
    "        clusters = np.zeros(n)\n",
    "        for i in range(k):\n",
    "                distances[:,i]=np.linalg.norm(X-centroids[i,:],axis=1)\n",
    "        clusters=np.argmin(distances,axis=1)\n",
    "        centroids_new=deepcopy(centroids)\n",
    "        for i in range(k):\n",
    "            centroids_new[i,:]=np.mean(X.iloc[clusters==i,:],axis=0) # on trouve la moyenne pour chq variable\n",
    "        error = np.linalg.norm(centroids - centroids_new)\n",
    "        centroids=deepcopy(centroids_new)\n",
    "        return centroids"
   ]
  },
  {
   "cell_type": "code",
   "execution_count": 46,
   "metadata": {},
   "outputs": [
    {
     "name": "stdout",
     "output_type": "stream",
     "text": [
      "[[6.2 6.1 5.1 2.9]\n",
      " [2.8 3.8 4.3 4. ]\n",
      " [1.5 1.3 1.3 0.3]]\n",
      "[[6.36413043 2.95       4.96521739 1.7       ]\n",
      " [5.21       2.4        3.7        1.19      ]\n",
      " [4.97708333 3.4        1.45625    0.24166667]]\n"
     ]
    }
   ],
   "source": [
    "centroids_lloyd=kmeans_lloyd(3,X)\n",
    "print(centroids_lloyd)"
   ]
  },
  {
   "cell_type": "code",
   "execution_count": 47,
   "metadata": {},
   "outputs": [
    {
     "name": "stdout",
     "output_type": "stream",
     "text": [
      "[6.36413043 5.21       4.97708333]\n"
     ]
    },
    {
     "data": {
      "text/plain": [
       "<matplotlib.collections.PathCollection at 0x1a1b936ed0>"
      ]
     },
     "execution_count": 47,
     "metadata": {},
     "output_type": "execute_result"
    },
    {
     "data": {
      "image/png": "[encoded data removed]",
      "text/plain": [
       "<Figure size 432x288 with 1 Axes>"
      ]
     },
     "metadata": {
      "needs_background": "light"
     },
     "output_type": "display_data"
    }
   ],
   "source": [
    "# Plot the data\n",
    "print(centroids_lloyd[:,0])\n",
    "sns.scatterplot(x=X.iloc[:,0], y=X.iloc[:,1])\n",
    "plt.scatter(centroids[:,0], centroids[:,1], marker='P', c='g', s=150)"
   ]
  },
  {
   "cell_type": "markdown",
   "metadata": {},
   "source": [
    "# K means ++"
   ]
  },
  {
   "cell_type": "code",
   "execution_count": null,
   "metadata": {},
   "outputs": [],
   "source": [
    "m,n=X.shape[0],X.shape[1]\n",
    "print(m,n) # m est le nombre d'observations, n est le nombre de variables explicatives.\n",
    "N=1000 # on choisit de faire 100 itérations\n",
    "k=3 #3 clusters"
   ]
  },
  {
   "cell_type": "code",
   "execution_count": 48,
   "metadata": {},
   "outputs": [],
   "source": [
    "# Initialisation using probability (kmeans++)\n",
    "def init_kpp(k,X):\n",
    "    centroids_rand=np.array([]).reshape(n,0)\n",
    "    for i in range(k):\n",
    "        rand=npr.randint(0,m-1)\n",
    "        centroids_rand=np.c_[centroids_rand,X.iloc[rand,:]]\n",
    "        \n",
    "        while len(centroids_rand)<k:\n",
    "            d2 = np.array([min([np.square(eucl_dist(i,c, None)) for c in temp]) for i in X])\n",
    "            prob = d2/d2.sum()\n",
    "            cum_prob = prob.cumsum()\n",
    "            r = np.random.random()\n",
    "            ind = np.where(cum_prob >= r)[0][0]\n",
    "            centroids_rand.append(X[ind])\n",
    "    centroids_rand=np.array(centroids_rand)\n",
    "    centroids_rand=centroids_rand.reshape(k,n)\n",
    "    return centroids_rand"
   ]
  },
  {
   "cell_type": "code",
   "execution_count": 49,
   "metadata": {},
   "outputs": [],
   "source": [
    "# Performing k_means_lloyd\n",
    "def kmeans_kpp(k,X):\n",
    "    \n",
    "    centroids=init_kpp(k,X)\n",
    "    \n",
    "    error = 10 #random number chosen\n",
    "\n",
    "    while error > 10**(-10):\n",
    "        distances=np.zeros((m,k))\n",
    "        clusters = np.zeros(n)\n",
    "        for i in range(k):\n",
    "                distances[:,i]=np.linalg.norm(X-centroids[i,:],axis=1)\n",
    "        clusters=np.argmin(distances,axis=1)\n",
    "        centroids_new=deepcopy(centroids)\n",
    "        for i in range(k):\n",
    "            centroids_new[i,:]=np.mean(X.iloc[clusters==i,:],axis=0) # on trouve la moyenne pour chq variable\n",
    "        error = np.linalg.norm(centroids - centroids_new)\n",
    "        centroids=deepcopy(centroids_new)\n",
    "        return centroids"
   ]
  },
  {
   "cell_type": "code",
   "execution_count": 53,
   "metadata": {},
   "outputs": [
    {
     "name": "stdout",
     "output_type": "stream",
     "text": [
      "[[6.68363636 3.04727273 5.44727273 1.94545455]\n",
      " [5.7326087  2.6826087  4.19347826 1.32608696]\n",
      " [5.00408163 3.42040816 1.45306122 0.24285714]]\n"
     ]
    }
   ],
   "source": [
    "centroids_kpp=kmeans_kpp(3,X)\n",
    "print(centroids_kpp)"
   ]
  },
  {
   "cell_type": "code",
   "execution_count": 52,
   "metadata": {},
   "outputs": [
    {
     "data": {
      "text/plain": [
       "<matplotlib.collections.PathCollection at 0x1a1bbbe590>"
      ]
     },
     "execution_count": 52,
     "metadata": {},
     "output_type": "execute_result"
    },
    {
     "data": {
      "image/png": "[encoded data removed]",
      "text/plain": [
       "<Figure size 432x288 with 1 Axes>"
      ]
     },
     "metadata": {
      "needs_background": "light"
     },
     "output_type": "display_data"
    }
   ],
   "source": [
    "# Plot the data\n",
    "sns.scatterplot(x=X.iloc[:,0], y=X.iloc[:,1])\n",
    "plt.scatter(centroids[:,0], centroids[:,1], marker='P', c='g', s=150)"
   ]
  },
  {
   "cell_type": "code",
   "execution_count": null,
   "metadata": {},
   "outputs": [],
   "source": []
  }
 ],
 "metadata": {
  "kernelspec": {
   "display_name": "Python 3",
   "language": "python",
   "name": "python3"
  },
  "language_info": {
   "codemirror_mode": {
    "name": "ipython",
    "version": 3
   },
   "file_extension": ".py",
   "mimetype": "text/x-python",
   "name": "python",
   "nbconvert_exporter": "python",
   "pygments_lexer": "ipython3",
   "version": "3.7.4"
  }
 },
 "nbformat": 4,
 "nbformat_minor": 2
}
